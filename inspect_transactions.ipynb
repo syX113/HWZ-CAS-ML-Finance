{
 "cells": [
  {
   "cell_type": "code",
   "execution_count": 18,
   "metadata": {},
   "outputs": [],
   "source": [
    "import pandas as pd\n",
    "\n",
    "df = pd.read_csv('../../Data/transactions/transaction_logs.csv')\n",
    "unique_steps = df[['step']].drop_duplicates()\n",
    "fraud_df = df[df['isFraud'] == 1]\n",
    "non_fraud_df = df[df['isFraud'] == 0]\n",
    "\n",
    "# Calculate the number of samples to retain for each category based on the original ratio\n",
    "total_samples = len(df) // 10  # Downsample to 1/4th\n",
    "fraud_ratio = len(fraud_df) / len(df)\n",
    "fraud_samples = int(total_samples * fraud_ratio)\n",
    "non_fraud_samples = total_samples - fraud_samples\n",
    "\n",
    "# Randomly sample from each category\n",
    "fraud_downsampled = fraud_df.sample(n=fraud_samples, random_state=1)\n",
    "non_fraud_downsampled = non_fraud_df.sample(n=non_fraud_samples, random_state=1)\n",
    "downsampled_df = pd.concat([fraud_downsampled, non_fraud_downsampled])\n",
    "\n",
    "# Ensuring that each 'step' is represented at least once\n",
    "downsampled_df = pd.concat([downsampled_df, unique_steps]).drop_duplicates()\n",
    "downsampled_df = downsampled_df.sample(frac=1).reset_index(drop=True)\n",
    "\n",
    "# Order by 'step'\n",
    "downsampled_df = downsampled_df.sort_values(by='step')\n",
    "downsampled_df.to_csv('downsampled_transaction_logs.csv', index=False)"
   ]
  },
  {
   "cell_type": "code",
   "execution_count": null,
   "metadata": {},
   "outputs": [],
   "source": []
  }
 ],
 "metadata": {
  "kernelspec": {
   "display_name": "venv-hwz-cas-ml-finance",
   "language": "python",
   "name": "python3"
  },
  "language_info": {
   "codemirror_mode": {
    "name": "ipython",
    "version": 3
   },
   "file_extension": ".py",
   "mimetype": "text/x-python",
   "name": "python",
   "nbconvert_exporter": "python",
   "pygments_lexer": "ipython3",
   "version": "3.11.2"
  }
 },
 "nbformat": 4,
 "nbformat_minor": 2
}
