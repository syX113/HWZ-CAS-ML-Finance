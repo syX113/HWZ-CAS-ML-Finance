{
 "cells": [
  {
   "cell_type": "markdown",
   "metadata": {},
   "source": [
    "# Aufgabe 1"
   ]
  },
  {
   "cell_type": "markdown",
   "metadata": {},
   "source": [
    "## Wrap-Up Deep Learning"
   ]
  },
  {
   "cell_type": "markdown",
   "metadata": {},
   "source": [
    "### Übung 1: Implementierung eines linearen Klassifikators für binäre Klassifikation"
   ]
  },
  {
   "cell_type": "markdown",
   "metadata": {},
   "source": [
    "Implementieren Sie mit TensorFlow einen linearen Klassifikator, um eine binäre Klassifikation auf einem synthetischen Datensatz durchzuführen."
   ]
  },
  {
   "cell_type": "code",
   "execution_count": 1,
   "metadata": {},
   "outputs": [],
   "source": [
    "import tensorflow as tf\n",
    "from tensorflow.keras.models import Sequential\n",
    "from tensorflow.keras.layers import Dense\n",
    "from sklearn.datasets import make_classification\n",
    "from sklearn.model_selection import train_test_split\n",
    "\n",
    "# Generate synthetic data for binary classification\n",
    "X, y = make_classification(n_samples=1000, n_features=20, n_classes=2, random_state=42)\n",
    "# Split the dataset into training and testing sets\n",
    "X_train, X_test, y_train, y_test = train_test_split(X, y, test_size=0.2, random_state=42)\n",
    "\n",
    "\n",
    "# Your code here"
   ]
  },
  {
   "cell_type": "markdown",
   "metadata": {},
   "source": [
    "Lösung:"
   ]
  },
  {
   "cell_type": "code",
   "execution_count": 1,
   "metadata": {},
   "outputs": [
    {
     "name": "stdout",
     "output_type": "stream",
     "text": [
      "Epoch 1/10\n",
      "25/25 [==============================] - 0s 4ms/step - loss: 1.0235 - accuracy: 0.3663 - val_loss: 0.9980 - val_accuracy: 0.3650\n",
      "Epoch 2/10\n",
      "25/25 [==============================] - 0s 1ms/step - loss: 0.8850 - accuracy: 0.4425 - val_loss: 0.8866 - val_accuracy: 0.4400\n",
      "Epoch 3/10\n",
      "25/25 [==============================] - 0s 1ms/step - loss: 0.7807 - accuracy: 0.5013 - val_loss: 0.8005 - val_accuracy: 0.4900\n",
      "Epoch 4/10\n",
      "25/25 [==============================] - 0s 1ms/step - loss: 0.7020 - accuracy: 0.5750 - val_loss: 0.7332 - val_accuracy: 0.5750\n",
      "Epoch 5/10\n",
      "25/25 [==============================] - 0s 1ms/step - loss: 0.6419 - accuracy: 0.6275 - val_loss: 0.6803 - val_accuracy: 0.6200\n",
      "Epoch 6/10\n",
      "25/25 [==============================] - 0s 1ms/step - loss: 0.5952 - accuracy: 0.6662 - val_loss: 0.6378 - val_accuracy: 0.6500\n",
      "Epoch 7/10\n",
      "25/25 [==============================] - 0s 1ms/step - loss: 0.5579 - accuracy: 0.7013 - val_loss: 0.6034 - val_accuracy: 0.6850\n",
      "Epoch 8/10\n",
      "25/25 [==============================] - 0s 1ms/step - loss: 0.5279 - accuracy: 0.7400 - val_loss: 0.5751 - val_accuracy: 0.7150\n",
      "Epoch 9/10\n",
      "25/25 [==============================] - 0s 1ms/step - loss: 0.5033 - accuracy: 0.7638 - val_loss: 0.5516 - val_accuracy: 0.7300\n",
      "Epoch 10/10\n",
      "25/25 [==============================] - 0s 1ms/step - loss: 0.4828 - accuracy: 0.7788 - val_loss: 0.5318 - val_accuracy: 0.7400\n"
     ]
    },
    {
     "data": {
      "text/plain": [
       "<keras.src.callbacks.History at 0x29e5b0190>"
      ]
     },
     "execution_count": 1,
     "metadata": {},
     "output_type": "execute_result"
    }
   ],
   "source": [
    "import tensorflow as tf\n",
    "from tensorflow.keras.models import Sequential\n",
    "from tensorflow.keras.layers import Dense\n",
    "from sklearn.datasets import make_classification\n",
    "from sklearn.model_selection import train_test_split\n",
    "\n",
    "# Generate synthetic data for binary classification\n",
    "X, y = make_classification(n_samples=1000, n_features=20, n_classes=2, random_state=42)\n",
    "# Split the dataset into training and testing sets\n",
    "X_train, X_test, y_train, y_test = train_test_split(X, y, test_size=0.2, random_state=42)\n",
    "\n",
    "# Define the model with a single dense layer, using a sigmoid activation function for binary classification\n",
    "model = Sequential([\n",
    "    Dense(1, activation='sigmoid', input_shape=(20,))\n",
    "])\n",
    "\n",
    "# Compile the model using stochastic gradient descent (SGD) as the optimizer and binary crossentropy as the loss function\n",
    "model.compile(optimizer='sgd', loss='binary_crossentropy', metrics=['accuracy'])\n",
    "\n",
    "# Train the model on the training data\n",
    "model.fit(X_train, y_train, epochs=10, batch_size=32, validation_data=(X_test, y_test))"
   ]
  },
  {
   "cell_type": "markdown",
   "metadata": {},
   "source": [
    "Das Modell besteht aus einer einzelnen \"dense\" Schicht mit einer Einheit und einer Sigmoid-Aktivierungsfunktion. Diese Konfiguration repräsentiert die einfachste Form eines neuronalen Netzes, das im Wesentlichen eine logistische Regression durchführt. Der Grund für die Verwendung einer Sigmoid-Aktivierungsfunktion liegt darin, dass sie Werte zwischen 0 und 1 ausgibt, was sie für binäre Klassifikationsaufgaben geeignet macht, bei denen die Wahrscheinlichkeit vorhergesagt werden muss, dass eine Eingabe zu einer von zwei möglichen Klassen gehört.\n",
    "\n",
    "Das Modell wird mit dem Stochastic Gradient Descent (SGD) Optimizer und der Binary Crossentropy Loss Function kompiliert. SGD wird aufgrund seiner Einfachheit und Effektivität bei der Suche nach dem Minimum der Loss Function für binäre Klassifikationsaufgaben gewählt. Binary Crossentropy wird als Loss Function verwendet, da sie die Leistung eines Klassifikationsmodells misst, dessen Ausgabe ein Wahrscheinlichkeitswert zwischen 0 und 1 ist. Sie eignet sich für die Vorhersage von binären Klassen.\n",
    "\n",
    "Das Training des Modells erfolgt mit der .fit()-Methode, wobei der Datensatz in Trainings- und Testsets aufgeteilt wird."
   ]
  },
  {
   "cell_type": "markdown",
   "metadata": {},
   "source": [
    "### Übung 2: Erstellung eines Multi-Layer Perceptrons (MLP) für die Multiklassifikation"
   ]
  },
  {
   "cell_type": "markdown",
   "metadata": {},
   "source": [
    "Konstruieren Sie ein Multi-Layer Perceptron mit TensorFlow, um Instanzen in mehrere Kategorien zu klassifizieren."
   ]
  },
  {
   "cell_type": "code",
   "execution_count": 2,
   "metadata": {},
   "outputs": [],
   "source": [
    "import tensorflow as tf\n",
    "from tensorflow.keras.models import Sequential\n",
    "from tensorflow.keras.layers import Dense\n",
    "from sklearn.datasets import make_blobs\n",
    "from sklearn.preprocessing import OneHotEncoder\n",
    "from sklearn.model_selection import train_test_split\n",
    "\n",
    "# Generate synthetic data for multiclass classification\n",
    "X, y = make_blobs(n_samples=1000, centers=5, n_features=20, random_state=42)\n",
    "\n",
    "# Reshape labels for one-hot encoding\n",
    "y = y.reshape(-1, 1)\n",
    "encoder = OneHotEncoder(sparse_output=False)\n",
    "# One-hot encode the labels\n",
    "y = encoder.fit_transform(y)\n",
    "\n",
    "# Split the dataset into training and testing sets\n",
    "X_train, X_test, y_train, y_test = train_test_split(X, y, test_size=0.2, random_state=42)\n",
    "\n",
    "# Your code here"
   ]
  },
  {
   "cell_type": "markdown",
   "metadata": {},
   "source": [
    "Lösung:"
   ]
  },
  {
   "cell_type": "code",
   "execution_count": 3,
   "metadata": {},
   "outputs": [
    {
     "name": "stdout",
     "output_type": "stream",
     "text": [
      "Epoch 1/20\n",
      "25/25 [==============================] - 0s 4ms/step - loss: 0.9488 - accuracy: 0.7387 - val_loss: 0.0246 - val_accuracy: 1.0000\n",
      "Epoch 2/20\n",
      "25/25 [==============================] - 0s 1ms/step - loss: 0.0122 - accuracy: 1.0000 - val_loss: 0.0054 - val_accuracy: 1.0000\n",
      "Epoch 3/20\n",
      "25/25 [==============================] - 0s 1ms/step - loss: 0.0047 - accuracy: 1.0000 - val_loss: 0.0033 - val_accuracy: 1.0000\n",
      "Epoch 4/20\n",
      "25/25 [==============================] - 0s 1ms/step - loss: 0.0030 - accuracy: 1.0000 - val_loss: 0.0023 - val_accuracy: 1.0000\n",
      "Epoch 5/20\n",
      "25/25 [==============================] - 0s 1ms/step - loss: 0.0022 - accuracy: 1.0000 - val_loss: 0.0017 - val_accuracy: 1.0000\n",
      "Epoch 6/20\n",
      "25/25 [==============================] - 0s 1ms/step - loss: 0.0017 - accuracy: 1.0000 - val_loss: 0.0013 - val_accuracy: 1.0000\n",
      "Epoch 7/20\n",
      "25/25 [==============================] - 0s 1ms/step - loss: 0.0011 - accuracy: 1.0000 - val_loss: 8.5212e-04 - val_accuracy: 1.0000\n",
      "Epoch 8/20\n",
      "25/25 [==============================] - 0s 1ms/step - loss: 8.0807e-04 - accuracy: 1.0000 - val_loss: 6.2436e-04 - val_accuracy: 1.0000\n",
      "Epoch 9/20\n",
      "25/25 [==============================] - 0s 1ms/step - loss: 6.3665e-04 - accuracy: 1.0000 - val_loss: 5.1265e-04 - val_accuracy: 1.0000\n",
      "Epoch 10/20\n",
      "25/25 [==============================] - 0s 1ms/step - loss: 5.3057e-04 - accuracy: 1.0000 - val_loss: 4.3379e-04 - val_accuracy: 1.0000\n",
      "Epoch 11/20\n",
      "25/25 [==============================] - 0s 1ms/step - loss: 4.5332e-04 - accuracy: 1.0000 - val_loss: 3.7237e-04 - val_accuracy: 1.0000\n",
      "Epoch 12/20\n",
      "25/25 [==============================] - 0s 1ms/step - loss: 3.9251e-04 - accuracy: 1.0000 - val_loss: 3.2501e-04 - val_accuracy: 1.0000\n",
      "Epoch 13/20\n",
      "25/25 [==============================] - 0s 1ms/step - loss: 3.4451e-04 - accuracy: 1.0000 - val_loss: 2.8608e-04 - val_accuracy: 1.0000\n",
      "Epoch 14/20\n",
      "25/25 [==============================] - 0s 1ms/step - loss: 3.0521e-04 - accuracy: 1.0000 - val_loss: 2.5344e-04 - val_accuracy: 1.0000\n",
      "Epoch 15/20\n",
      "25/25 [==============================] - 0s 1ms/step - loss: 2.7213e-04 - accuracy: 1.0000 - val_loss: 2.2637e-04 - val_accuracy: 1.0000\n",
      "Epoch 16/20\n",
      "25/25 [==============================] - 0s 1ms/step - loss: 2.4396e-04 - accuracy: 1.0000 - val_loss: 2.0409e-04 - val_accuracy: 1.0000\n",
      "Epoch 17/20\n",
      "25/25 [==============================] - 0s 1ms/step - loss: 2.2053e-04 - accuracy: 1.0000 - val_loss: 1.8436e-04 - val_accuracy: 1.0000\n",
      "Epoch 18/20\n",
      "25/25 [==============================] - 0s 1ms/step - loss: 1.9978e-04 - accuracy: 1.0000 - val_loss: 1.6783e-04 - val_accuracy: 1.0000\n",
      "Epoch 19/20\n",
      "25/25 [==============================] - 0s 1ms/step - loss: 1.8239e-04 - accuracy: 1.0000 - val_loss: 1.5253e-04 - val_accuracy: 1.0000\n",
      "Epoch 20/20\n",
      "25/25 [==============================] - 0s 1ms/step - loss: 1.6669e-04 - accuracy: 1.0000 - val_loss: 1.3945e-04 - val_accuracy: 1.0000\n"
     ]
    },
    {
     "data": {
      "text/plain": [
       "<keras.src.callbacks.History at 0x2a5a2b890>"
      ]
     },
     "execution_count": 3,
     "metadata": {},
     "output_type": "execute_result"
    }
   ],
   "source": [
    "import tensorflow as tf\n",
    "from tensorflow.keras.models import Sequential\n",
    "from tensorflow.keras.layers import Dense\n",
    "from sklearn.datasets import make_blobs\n",
    "from sklearn.preprocessing import OneHotEncoder\n",
    "from sklearn.model_selection import train_test_split\n",
    "\n",
    "# Generate synthetic data for multiclass classification\n",
    "X, y = make_blobs(n_samples=1000, centers=5, n_features=20, random_state=42)\n",
    "\n",
    "# Reshape labels for one-hot encoding\n",
    "y = y.reshape(-1, 1)\n",
    "encoder = OneHotEncoder(sparse_output=False)\n",
    "# One-hot encode the labels\n",
    "y = encoder.fit_transform(y)\n",
    "\n",
    "# Split the dataset into training and testing sets\n",
    "X_train, X_test, y_train, y_test = train_test_split(X, y, test_size=0.2, random_state=42)\n",
    "\n",
    "# Define a multi-layer model\n",
    "model = Sequential([\n",
    "    # Input layer with ReLU activation\n",
    "    Dense(64, activation='relu', input_shape=(20,)),\n",
    "    # Hidden layer with ReLU activation\n",
    "    Dense(32, activation='relu'),\n",
    "    # Output layer with softmax activation for multiclass classification\n",
    "    Dense(5, activation='softmax')\n",
    "])\n",
    "\n",
    "# Compile the model with Adam optimizer and categorical crossentropy loss function\n",
    "model.compile(optimizer='adam', loss='categorical_crossentropy', metrics=['accuracy'])\n",
    "\n",
    "# Train the model on the training data\n",
    "model.fit(X_train, y_train, epochs=20, batch_size=32, validation_data=(X_test, y_test))"
   ]
  },
  {
   "cell_type": "markdown",
   "metadata": {},
   "source": [
    "Die Netzwerkarchitektur umfasst einen Input Layer, zwei Hidden Layers mit ReLU-Aktivierungsfunktionen und eine Ausgabeschicht mit einer Softmax-Aktivierungsfunktion. ReLU wird für die Hidden Layers gewählt, weil es das Problem des \"vanishing Gradients\" abschwächt und es dem Modell ermöglicht, komplexe Muster zu lernen. Die Softmax-Aktivierungsfunktion in der Ausgabeschicht wird für die Multiklassifikation verwendet, da sie die Logits des Modells in Wahrscheinlichkeiten für jede Klasse umwandelt.\n",
    "\n",
    "Als Optimizer wird der Adam Optimizer und Categorical Crossentropy als Loss Function gewählt. Adam wird aufgrund seiner Effizienz im Umgang mit sparse Gradients und adaptiven Lernraten ausgewählt.   \n",
    "Categorical Crossentropy ist für Multiklassifikationsprobleme geeignet, bei denen jedes Ziel als ein One-Hot-codierter Vektor dargestellt wird."
   ]
  },
  {
   "cell_type": "markdown",
   "metadata": {},
   "source": [
    "### Übung 3: Neuronales Netzwerk für Regression"
   ]
  },
  {
   "cell_type": "markdown",
   "metadata": {},
   "source": [
    "Entwickeln Sie ein neuronales Netzwerk mit TensorFlow, um eine Regression auf einem synthetischen Datensatz durchzuführen."
   ]
  },
  {
   "cell_type": "code",
   "execution_count": null,
   "metadata": {},
   "outputs": [],
   "source": [
    "import tensorflow as tf\n",
    "from tensorflow.keras.models import Sequential\n",
    "from tensorflow.keras.layers import Dense\n",
    "from sklearn.datasets import make_regression\n",
    "from sklearn.model_selection import train_test_split\n",
    "from sklearn.preprocessing import StandardScaler\n",
    "\n",
    "# Generate synthetic data for regression\n",
    "X, y = make_regression(n_samples=1000, n_features=20, n_targets=1, noise=0.1, random_state=42)\n",
    "# Split the dataset into training and testing sets\n",
    "X_train, X_test, y_train, y_test = train_test_split(X, y, test_size=0.2, random_state=42)\n",
    "\n",
    "# Your code here"
   ]
  },
  {
   "cell_type": "markdown",
   "metadata": {},
   "source": [
    "Lösung:"
   ]
  },
  {
   "cell_type": "code",
   "execution_count": 6,
   "metadata": {},
   "outputs": [
    {
     "name": "stdout",
     "output_type": "stream",
     "text": [
      "Epoch 1/20\n",
      "25/25 [==============================] - 0s 4ms/step - loss: 37629.8477 - val_loss: 38550.9648\n",
      "Epoch 2/20\n",
      "25/25 [==============================] - 0s 1ms/step - loss: 37413.2578 - val_loss: 38259.9609\n",
      "Epoch 3/20\n",
      "25/25 [==============================] - 0s 1ms/step - loss: 37003.5859 - val_loss: 37620.1367\n",
      "Epoch 4/20\n",
      "25/25 [==============================] - 0s 1ms/step - loss: 36123.1758 - val_loss: 36350.4883\n",
      "Epoch 5/20\n",
      "25/25 [==============================] - 0s 1ms/step - loss: 34512.9766 - val_loss: 34128.2930\n",
      "Epoch 6/20\n",
      "25/25 [==============================] - 0s 1ms/step - loss: 31871.8398 - val_loss: 30780.9570\n",
      "Epoch 7/20\n",
      "25/25 [==============================] - 0s 1ms/step - loss: 28003.6055 - val_loss: 26297.2793\n",
      "Epoch 8/20\n",
      "25/25 [==============================] - 0s 1ms/step - loss: 23257.9492 - val_loss: 21015.3184\n",
      "Epoch 9/20\n",
      "25/25 [==============================] - 0s 1ms/step - loss: 18096.9570 - val_loss: 15977.0479\n",
      "Epoch 10/20\n",
      "25/25 [==============================] - 0s 1ms/step - loss: 13524.7510 - val_loss: 11554.7021\n",
      "Epoch 11/20\n",
      "25/25 [==============================] - 0s 1ms/step - loss: 9656.8652 - val_loss: 8181.0000\n",
      "Epoch 12/20\n",
      "25/25 [==============================] - 0s 1ms/step - loss: 6674.8076 - val_loss: 5632.1475\n",
      "Epoch 13/20\n",
      "25/25 [==============================] - 0s 1ms/step - loss: 4420.0938 - val_loss: 3684.6743\n",
      "Epoch 14/20\n",
      "25/25 [==============================] - 0s 1ms/step - loss: 2751.4890 - val_loss: 2424.5925\n",
      "Epoch 15/20\n",
      "25/25 [==============================] - 0s 1ms/step - loss: 1736.8988 - val_loss: 1618.0073\n",
      "Epoch 16/20\n",
      "25/25 [==============================] - 0s 1ms/step - loss: 1135.4045 - val_loss: 1196.7195\n",
      "Epoch 17/20\n",
      "25/25 [==============================] - 0s 1ms/step - loss: 834.0237 - val_loss: 937.0959\n",
      "Epoch 18/20\n",
      "25/25 [==============================] - 0s 1ms/step - loss: 666.4554 - val_loss: 775.5132\n",
      "Epoch 19/20\n",
      "25/25 [==============================] - 0s 1ms/step - loss: 560.9849 - val_loss: 657.5472\n",
      "Epoch 20/20\n",
      "25/25 [==============================] - 0s 1ms/step - loss: 482.4886 - val_loss: 556.2479\n"
     ]
    },
    {
     "data": {
      "text/plain": [
       "<keras.src.callbacks.History at 0x2c96c39d0>"
      ]
     },
     "execution_count": 6,
     "metadata": {},
     "output_type": "execute_result"
    }
   ],
   "source": [
    "import tensorflow as tf\n",
    "from tensorflow.keras.models import Sequential\n",
    "from tensorflow.keras.layers import Dense\n",
    "from sklearn.datasets import make_regression\n",
    "from sklearn.model_selection import train_test_split\n",
    "from sklearn.preprocessing import StandardScaler\n",
    "\n",
    "# Generate synthetic data for regression\n",
    "X, y = make_regression(n_samples=1000, n_features=20, n_targets=1, noise=0.1, random_state=42)\n",
    "# Split the dataset into training and testing sets\n",
    "X_train, X_test, y_train, y_test = train_test_split(X, y, test_size=0.2, random_state=42)\n",
    "\n",
    "# It's important to scale features for regression problems to improve model performance\n",
    "scaler = StandardScaler()\n",
    "X_train = scaler.fit_transform(X_train)\n",
    "X_test = scaler.transform(X_test)\n",
    "\n",
    "# Define the model architecture\n",
    "model = Sequential([\n",
    "    # Input and hidden layer with ReLU activation\n",
    "    Dense(64, activation='relu', input_shape=(20,)),\n",
    "    # Additional hidden layer\n",
    "    Dense(32, activation='relu'),\n",
    "    # Output layer for regression (note the lack of activation function)\n",
    "    Dense(1)\n",
    "])\n",
    "\n",
    "# Compile the model using mean squared error (MSE) as the loss function and Adam as the optimizer\n",
    "model.compile(optimizer='adam', loss='mean_squared_error')\n",
    "\n",
    "# Train the model on the training data\n",
    "model.fit(X_train, y_train, epochs=20, batch_size=32, validation_data=(X_test, y_test))"
   ]
  },
  {
   "cell_type": "markdown",
   "metadata": {},
   "source": [
    "Das Ziel besteht darin, ein neuronales Netzwerk für Regressionsaufgaben zu verwenden, um kontinuierliche Werte aus einem synthetischen Datensatz vorherzusagen. Die Architektur besteht aus einem Input Layer, zwei Hidden Layers mit ReLU-Aktivierungsfunktionen und einem Output Layer ohne Aktivierungsfunktion. Das Fehlen einer Aktivierungsfunktion in der Ausgabeschicht ermöglicht es dem Netzwerk, einen Bereich kontinuierlicher Werte auszugeben (muss, da Regression).\n",
    "\n",
    "Das Modell wird mit der Mean Squared Error (MSE) Loss Function und dem Adam Optimizer kompiliert. MSE wird gewählt, weil es effektiv die Differenz zwischen den vorhergesagten und den tatsächlichen Werten quantifiziert, was es ideal für Regressionsaufgaben macht. Adam wird aufgrund seiner Vorteile bei der Geschwindigkeit der Konvergenz und dem Umgang mit spärlichen Gradienten verwendet."
   ]
  }
 ],
 "metadata": {
  "kernelspec": {
   "display_name": "venv-hwz-cas-ml",
   "language": "python",
   "name": "python3"
  },
  "language_info": {
   "codemirror_mode": {
    "name": "ipython",
    "version": 3
   },
   "file_extension": ".py",
   "mimetype": "text/x-python",
   "name": "python",
   "nbconvert_exporter": "python",
   "pygments_lexer": "ipython3",
   "version": "3.11.2"
  }
 },
 "nbformat": 4,
 "nbformat_minor": 2
}
