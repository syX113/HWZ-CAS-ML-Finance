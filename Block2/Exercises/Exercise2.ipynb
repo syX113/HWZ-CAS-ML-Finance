{
 "cells": [
  {
   "cell_type": "markdown",
   "metadata": {},
   "source": [
    "# Aufgabe 2"
   ]
  },
  {
   "cell_type": "code",
   "execution_count": 140,
   "metadata": {},
   "outputs": [
    {
     "data": {
      "text/html": [
       "<div>\n",
       "<style scoped>\n",
       "    .dataframe tbody tr th:only-of-type {\n",
       "        vertical-align: middle;\n",
       "    }\n",
       "\n",
       "    .dataframe tbody tr th {\n",
       "        vertical-align: top;\n",
       "    }\n",
       "\n",
       "    .dataframe thead th {\n",
       "        text-align: right;\n",
       "    }\n",
       "</style>\n",
       "<table border=\"1\" class=\"dataframe\">\n",
       "  <thead>\n",
       "    <tr style=\"text-align: right;\">\n",
       "      <th></th>\n",
       "      <th>person_age</th>\n",
       "      <th>person_income</th>\n",
       "      <th>person_home_ownership</th>\n",
       "      <th>person_emp_length</th>\n",
       "      <th>loan_intent</th>\n",
       "      <th>loan_amnt</th>\n",
       "      <th>loan_int_rate</th>\n",
       "      <th>loan_status</th>\n",
       "      <th>loan_percent_income</th>\n",
       "      <th>cb_person_default_on_file</th>\n",
       "      <th>cb_person_cred_hist_length</th>\n",
       "    </tr>\n",
       "  </thead>\n",
       "  <tbody>\n",
       "    <tr>\n",
       "      <th>0</th>\n",
       "      <td>22</td>\n",
       "      <td>59000</td>\n",
       "      <td>RENT</td>\n",
       "      <td>123.0</td>\n",
       "      <td>PERSONAL</td>\n",
       "      <td>35000</td>\n",
       "      <td>16.02</td>\n",
       "      <td>1</td>\n",
       "      <td>0.59</td>\n",
       "      <td>Y</td>\n",
       "      <td>3</td>\n",
       "    </tr>\n",
       "    <tr>\n",
       "      <th>1</th>\n",
       "      <td>21</td>\n",
       "      <td>9600</td>\n",
       "      <td>OWN</td>\n",
       "      <td>5.0</td>\n",
       "      <td>EDUCATION</td>\n",
       "      <td>1000</td>\n",
       "      <td>11.14</td>\n",
       "      <td>0</td>\n",
       "      <td>0.10</td>\n",
       "      <td>N</td>\n",
       "      <td>2</td>\n",
       "    </tr>\n",
       "    <tr>\n",
       "      <th>2</th>\n",
       "      <td>25</td>\n",
       "      <td>9600</td>\n",
       "      <td>MORTGAGE</td>\n",
       "      <td>1.0</td>\n",
       "      <td>MEDICAL</td>\n",
       "      <td>5500</td>\n",
       "      <td>12.87</td>\n",
       "      <td>1</td>\n",
       "      <td>0.57</td>\n",
       "      <td>N</td>\n",
       "      <td>3</td>\n",
       "    </tr>\n",
       "  </tbody>\n",
       "</table>\n",
       "</div>"
      ],
      "text/plain": [
       "   person_age  person_income person_home_ownership  person_emp_length  \\\n",
       "0          22          59000                  RENT              123.0   \n",
       "1          21           9600                   OWN                5.0   \n",
       "2          25           9600              MORTGAGE                1.0   \n",
       "\n",
       "  loan_intent  loan_amnt  loan_int_rate  loan_status  loan_percent_income  \\\n",
       "0    PERSONAL      35000          16.02            1                 0.59   \n",
       "1   EDUCATION       1000          11.14            0                 0.10   \n",
       "2     MEDICAL       5500          12.87            1                 0.57   \n",
       "\n",
       "  cb_person_default_on_file  cb_person_cred_hist_length  \n",
       "0                         Y                           3  \n",
       "1                         N                           2  \n",
       "2                         N                           3  "
      ]
     },
     "execution_count": 140,
     "metadata": {},
     "output_type": "execute_result"
    }
   ],
   "source": [
    "import pandas as pd\n",
    "\n",
    "# Load the datasets\n",
    "credit_risk_df = pd.read_csv('../../Data/credit_risk/credit_risk_dataset.csv')\n",
    "\n",
    "# Display the first few rows of each dataset to understand their structure\n",
    "credit_risk_df.head(3)"
   ]
  },
  {
   "cell_type": "markdown",
   "metadata": {},
   "source": [
    "### Übung 1: Einführung in logistische Regression\n",
    "\n",
    "Untersuchen Sie, ob das Einkommen (person_income) eines Kreditnehmers einen Einfluss auf den Kreditstatus (loan_status) hat. Führen Sie eine einfache logistische Regression durch und interpretieren Sie das Ergebnis des Koeffizienten für das Einkommen."
   ]
  },
  {
   "cell_type": "code",
   "execution_count": 141,
   "metadata": {},
   "outputs": [
    {
     "name": "stdout",
     "output_type": "stream",
     "text": [
      "Optimization terminated successfully.\n",
      "         Current function value: 0.495559\n",
      "         Iterations 7\n",
      "                           Logit Regression Results                           \n",
      "==============================================================================\n",
      "Dep. Variable:            loan_status   No. Observations:                32581\n",
      "Model:                          Logit   Df Residuals:                    32579\n",
      "Method:                           MLE   Df Model:                            1\n",
      "Date:                Fri, 16 Feb 2024   Pseudo R-squ.:                 0.05531\n",
      "Time:                        20:06:08   Log-Likelihood:                -16146.\n",
      "converged:                       True   LL-Null:                       -17091.\n",
      "Covariance Type:            nonrobust   LLR p-value:                     0.000\n",
      "=================================================================================\n",
      "                    coef    std err          z      P>|z|      [0.025      0.975]\n",
      "---------------------------------------------------------------------------------\n",
      "const            -0.1115      0.031     -3.542      0.000      -0.173      -0.050\n",
      "person_income -2.033e-05   5.48e-07    -37.110      0.000   -2.14e-05   -1.93e-05\n",
      "=================================================================================\n"
     ]
    }
   ],
   "source": [
    "import statsmodels.api as sm\n",
    "\n",
    "# Hint: Add a constant to the DataFrame\n",
    "X = sm.add_constant(credit_risk_df['person_income'])\n",
    "y = credit_risk_df['loan_status']\n",
    "\n",
    "# Create and fit the model\n",
    "model = sm.Logit(y, X).fit()\n",
    "print(model.summary())"
   ]
  },
  {
   "cell_type": "markdown",
   "metadata": {},
   "source": [
    "### Übung 2: Kategorische Variablen einbeziehen\n",
    "\n",
    "Untersuchen Sie den Einfluss der Wohnsituation (person_home_ownership) auf den Kreditstatus (loan_status). Wandeln Sie die kategorische Variable in Dummy-Variablen um und führen Sie eine logistische Regression durch."
   ]
  },
  {
   "cell_type": "code",
   "execution_count": 142,
   "metadata": {},
   "outputs": [],
   "source": [
    "# Hint: Convert the categorical variable into dummy variables\n",
    "person_home_ownership_dummies = pd.get_dummies(credit_risk_df['person_home_ownership'], drop_first=True)\n",
    "\n",
    "# Hint: Add the dummy variables to the model\n",
    "X = sm.add_constant(person_home_ownership_dummies)"
   ]
  },
  {
   "cell_type": "markdown",
   "metadata": {},
   "source": [
    "### Übung 3: Beziehung zwischen Kreditbetrag und Kreditstatus\n",
    "\n",
    "Analysieren Sie, wie der Kreditbetrag (loan_amnt) mit dem Kreditstatus (loan_status) zusammenhängt. \n",
    "Implementieren Sie eine logistische Regression und interpretieren Sie den Koeffizienten des Kreditbetrags."
   ]
  },
  {
   "cell_type": "code",
   "execution_count": 143,
   "metadata": {},
   "outputs": [],
   "source": [
    "X = sm.add_constant(credit_risk_df['loan_amnt'])\n",
    "\n",
    "# Use the same approach as in Exercise 1 to create and fit the model"
   ]
  },
  {
   "cell_type": "markdown",
   "metadata": {},
   "source": [
    "### Übung 4: Einfluss der Beschäftigungsdauer\n",
    "\n",
    "Prüfen Sie, ob die Beschäftigungsdauer (person_emp_length) eines Kreditnehmers einen Effekt auf die Wahrscheinlichkeit eines Kreditausfalls (loan_status) hat. Führen Sie eine logistische Regression durch und diskutieren Sie die Ergebnisse."
   ]
  },
  {
   "cell_type": "code",
   "execution_count": 144,
   "metadata": {},
   "outputs": [],
   "source": [
    "X = sm.add_constant(credit_risk_df['person_emp_length'])\n",
    "\n",
    "# Create and fit the model, similar to previous exercises"
   ]
  },
  {
   "cell_type": "markdown",
   "metadata": {},
   "source": [
    "### Übung 5: Modellgüte evaluieren\n",
    "\n",
    "Wählen Sie eines der oben erstellten Modelle und evaluieren Sie dessen Güte. Berechnen Sie hierfür die Modellgüte anhand der Konfusionsmatrix und berechnen Sie die Genauigkeit (Accuracy) des Modells."
   ]
  },
  {
   "cell_type": "code",
   "execution_count": 145,
   "metadata": {},
   "outputs": [
    {
     "name": "stdout",
     "output_type": "stream",
     "text": [
      "Confusion Matrix:\n",
      " [[25473     0]\n",
      " [ 7108     0]]\n",
      "Accuracy: 0.7818360394094718\n"
     ]
    }
   ],
   "source": [
    "from sklearn.metrics import confusion_matrix, accuracy_score\n",
    "\n",
    "# Load the datasets\n",
    "credit_risk_df = pd.read_csv('../../Data/credit_risk/credit_risk_dataset.csv')\n",
    "\n",
    "# Hint: Make predictions based on your model\n",
    "# Assuming `model` is your fitted model from one of the previous exercises\n",
    "y_pred = model.predict(X) > 0.5  # Choose a threshold, e.g., 0.5\n",
    "\n",
    "# Calculate the confusion matrix and accuracy\n",
    "conf_matrix = confusion_matrix(y, y_pred)\n",
    "accuracy = accuracy_score(y, y_pred)\n",
    "\n",
    "print(\"Confusion Matrix:\\n\", conf_matrix)\n",
    "print(\"Accuracy:\", accuracy)"
   ]
  },
  {
   "cell_type": "markdown",
   "metadata": {},
   "source": [
    "# Lösungen"
   ]
  },
  {
   "cell_type": "code",
   "execution_count": 146,
   "metadata": {},
   "outputs": [
    {
     "name": "stdout",
     "output_type": "stream",
     "text": [
      "Optimization terminated successfully.\n",
      "         Current function value: 0.495559\n",
      "         Iterations 7\n",
      "                           Logit Regression Results                           \n",
      "==============================================================================\n",
      "Dep. Variable:            loan_status   No. Observations:                32581\n",
      "Model:                          Logit   Df Residuals:                    32579\n",
      "Method:                           MLE   Df Model:                            1\n",
      "Date:                Fri, 16 Feb 2024   Pseudo R-squ.:                 0.05531\n",
      "Time:                        20:06:08   Log-Likelihood:                -16146.\n",
      "converged:                       True   LL-Null:                       -17091.\n",
      "Covariance Type:            nonrobust   LLR p-value:                     0.000\n",
      "=================================================================================\n",
      "                    coef    std err          z      P>|z|      [0.025      0.975]\n",
      "---------------------------------------------------------------------------------\n",
      "const            -0.1115      0.031     -3.542      0.000      -0.173      -0.050\n",
      "person_income -2.033e-05   5.48e-07    -37.110      0.000   -2.14e-05   -1.93e-05\n",
      "=================================================================================\n"
     ]
    }
   ],
   "source": [
    "import statsmodels.api as sm\n",
    "X = sm.add_constant(credit_risk_df['person_income'])\n",
    "y = credit_risk_df['loan_status']\n",
    "\n",
    "# Create and fit the model\n",
    "model = sm.Logit(y, X).fit()\n",
    "print(model.summary())"
   ]
  },
  {
   "cell_type": "markdown",
   "metadata": {},
   "source": [
    "### Übung 1\n",
    "\n",
    "**Interpretation:**\n",
    "\n",
    "Der negative Koeffizient für *person_income* bedeutet, dass mit steigendem Einkommen die Log-Odds sinken (Kreditnehmer gerät in Verzug  (d.h., loan_status = 1)). In anderen Worten, höheres Einkommen ist mit einer geringeren Wahrscheinlichkeit eines Kreditausfalls verbunden.\n",
    "\n",
    "Für jede Einheitserhöhung im Einkommen (hier jede zusätzliche Geldeinheit bzw. 1$), sinken die Log-Odds eines Kreditausfalls um 0.00002033. Obwohl diese Änderung klein ist, ist sie über den gesamten Einkommensbereich hinweg signifikant, insbesondere bei grossen Unterschieden im Einkommen.\n",
    "\n",
    "**Schlussfolgerung:**  \n",
    "Einkommen eines Kreditnehmers hat einen signifikanten Einfluss auf den Kreditstatus. Speziell zeigt die Analyse, dass ein höheres Einkommen mit einer geringeren Wahrscheinlichkeit eines Kreditausfalls assoziiert ist. Diese Ergebnisse unterstützen Annahme, dass das Einkommen ein wichtiger Faktor bei der Beurteilung des Kreditrisikos ist. ​ \n",
    "\n",
    "Der Pseudo R-Squared ist bei rund 5%, ergo erklärt das Modell nur 5% der Varianz.  \n",
    "Log-Likelihood vs. LL-Null (=kein Modell) zeigt, dass das Modell etwas besser ist als kein Modell (Log-Likelihood näher bei 0 = besser)"
   ]
  },
  {
   "cell_type": "markdown",
   "metadata": {},
   "source": [
    "Mögliche Ansatzpunkte/Verbesserungen:\n",
    "\n",
    "- Mehr Prädiktoren einbeziehen: Niedrigr Pseudo-R2-Squared deutet darauf hin, dass das Einkommen der Person allein kein starker Prädiktor für den Kreditstatus ist. Die Einbeziehung zusätzlicher Variablen (z. B. Kreditwürdigkeit, Kreditbetrag, Beschäftigungsstatus usw.) könnte die Vorhersagekraft des Modells verbessern.\n",
    "\n",
    "- Feature Engineering: Erstellung neuer Features aus vorhandenen Daten (z. B. Einteilung des Einkommens in Bereiche, Interaktionsterme) könnten ggf. komplexere Beziehungen zwischen den Prädiktoren und dem Ergebnis aufzeigen.\n",
    "\n",
    "- Modellkomplexität: Hinzufügen weiterer Prädiktoren kann das Modell zwar verbessern, kann dann aber zu Overfitting führen. Regularization (z. B. Ridge- oder Lasso-Regression) können verwendet werden, um Overfitting zu verhindern, wenn die Modellkomplexität erhöht wird.\n",
    "\n",
    "- Überprüfen der Modellannahmen: Sicherstellen, dass Annahmen der logistischen Regression erfüllt sind, inkl. der Linearität der Log-Odds und Abwesenheit von Multikollinearität zwischen den Prädiktoren.\n",
    "\n",
    "- Modell-Diagnosen: Ausreisser oder \"einflussreiche\" Punkte finden, die die Leistung des Modells beeinträchtigen könnten, zu ermitteln. Eine Analyse der Residuals u.a. mit QQ-Plots etc. kann helfen.\n",
    "\n",
    "- Cross Validation: Beurteilen, wie gut das Modell auf \"unbekannte\" Daten generalisiert (Train/Test Split). Dies kann helfen, die Robustheit des Modells zu bestimmen.\n",
    "\n",
    "..."
   ]
  },
  {
   "cell_type": "markdown",
   "metadata": {},
   "source": [
    "### Übung 2: "
   ]
  },
  {
   "cell_type": "code",
   "execution_count": 182,
   "metadata": {},
   "outputs": [
    {
     "name": "stdout",
     "output_type": "stream",
     "text": [
      "Optimization terminated successfully.\n",
      "         Current function value: 0.493897\n",
      "         Iterations 6\n",
      "                           Logit Regression Results                           \n",
      "==============================================================================\n",
      "Dep. Variable:            loan_status   No. Observations:                32581\n",
      "Model:                          Logit   Df Residuals:                    32577\n",
      "Method:                           MLE   Df Model:                            3\n",
      "Date:                Fri, 16 Feb 2024   Pseudo R-squ.:                 0.05848\n",
      "Time:                        20:26:07   Log-Likelihood:                -16092.\n",
      "converged:                       True   LL-Null:                       -17091.\n",
      "Covariance Type:            nonrobust   LLR p-value:                     0.000\n",
      "==============================================================================\n",
      "                 coef    std err          z      P>|z|      [0.025      0.975]\n",
      "------------------------------------------------------------------------------\n",
      "const         -1.9395      0.026    -74.551      0.000      -1.990      -1.888\n",
      "OTHER          1.1319      0.211      5.366      0.000       0.718       1.545\n",
      "OWN           -0.5773      0.079     -7.287      0.000      -0.733      -0.422\n",
      "RENT           1.1659      0.031     37.662      0.000       1.105       1.227\n",
      "==============================================================================\n"
     ]
    }
   ],
   "source": [
    "import pandas as pd\n",
    "import statsmodels.api as sm\n",
    "from sklearn.metrics import confusion_matrix, accuracy_score\n",
    "\n",
    "# Load the dataset\n",
    "credit_risk_df = pd.read_csv('../../Data/credit_risk/credit_risk_dataset.csv')\n",
    "\n",
    "# Step 1: Convert 'person_home_ownership' into numeric dummy variables\n",
    "# Using 'astype(int)' to convert boolean values to integers (0/1)\n",
    "person_home_ownership_dummies = pd.get_dummies(credit_risk_df['person_home_ownership'], drop_first=True).astype(int)\n",
    "\n",
    "# Step 2: Prepare the target variable\n",
    "# Ensure it's numeric (integer) and handle missing values if there are any\n",
    "Y = credit_risk_df['loan_status'].astype(int)\n",
    "\n",
    "# It's a good practice to check for and handle missing values in your dataset PROPERLY\n",
    "# Imputing coula be a suitable strategy e.g. https://medium.com/@brijesh_soni/topic-9-mice-or-multivariate-imputation-with-chain-equation-f8fd435ca91\n",
    "# For simplicity, we will proceed assuming no significant missing values in 'loan_status'\n",
    "\n",
    "# Step 3: Add the dummy variables to the model, including a constant term for the intercept\n",
    "X = sm.add_constant(person_home_ownership_dummies)\n",
    "\n",
    "# Step 4: Conduct the logistic regression\n",
    "logit_model = sm.Logit(Y, X)\n",
    "result = logit_model.fit()\n",
    "\n",
    "# Print the summary to interpret the results\n",
    "print(result.summary())"
   ]
  },
  {
   "cell_type": "markdown",
   "metadata": {},
   "source": [
    "Koeffizienten stellen die Log-Odds von loan_status dar, die mit jeder Kategorie von person_home_ownership verbunden sind, verglichen mit der Basiskategorie. \n",
    "MORTGAGE ist die \"Basiskategorie\" (1. in alphabetischer Ordnung bzw. nicht in Summary), kann jeder Koeffizient wie folgt interpretiert werden (werden Kategorieren genutzt ist der Vergleich immer mit der Basiskategorie):\n",
    "\n",
    "- const (-1,9395): Ist die logarithmische Wahrscheinlichkeit dar, dass loan_status für die Basiskategorie (MORTGAGE) den Wert 1 hat, wobei alle anderen Variablen konstant bleiben.\n",
    "\n",
    "- OTHER (1,1319): Logarithmische Wahrscheinlichkeit, dass der Kreditstatus 1 ist, für Personen der Gruppe SONSTIGES (person_home_ownership) um 1.1319 Einheiten höher ist als für Personen mit dem Merkmal MORTGAGE, wenn alle anderen Variablen konstant bleiben.\n",
    "\n",
    "- OWN (-0,5773): zeigt an, dass die logarithmische Wahrscheinlichkeit, dass der loan_status 1 ist, für Personen, die ihr Haus besitzen, um 0.5773 Einheiten geringer ist als für Personen mit MORTGAGE. Dies deutet darauf hin, dass der Besitz von Wohneigentum mit einer geringeren Wahrscheinlichkeit verbunden ist, dass das durch loan_status definierte Ergebnis 1 (=Kreditausfall) ist.\n",
    "\n",
    "- RENT (1,1659): Logarithmische Wahrscheinlichkeit, dass loan_status 1 ist, für Mieter um 1.1659 Einheiten höher ist als für Personen mit MORTGAGE, was auf einen stärkeren Zusammenhang mit dem Ergebnis für Mieter hindeutet.\n",
    "\n",
    "Um diese Log-Odds in Odd Ratios umzuwandeln, kann via np.exp() der Wert berechnet werden.\n",
    "\n",
    "- Für OTHER beträgt das Odds Ratio exp(1.1319), was bedeutet, dass die Wahrscheinlichkeit, dass der Kreditstatus 1 ist, für Personen in der Kategorie OTHER etwa 3.1 mal höher ist als für Personen mit MORTGAGE (Vergleich mit Basiskategorie).\n",
    "- Für OWN ist das Odds Ratio exp(-0.5773), was bedeutet, dass die Wahrscheinlichkeit, dass der loan_status 1 ist, für Eigenheimbesitzer etwa 0.56 niedriger ist als für Personen mit einer MORTGAGE.\n",
    "- Für RENT beträgt das Odds Ratio exp(1.1659), was bedeutet, dass die Wahrscheinlichkeit, dass der loan_status 1 ist, für Mieter im Vergleich zu Personen mit einer MORTGAGE etwa 3.2 mal höher ist."
   ]
  },
  {
   "cell_type": "code",
   "execution_count": 183,
   "metadata": {},
   "outputs": [
    {
     "data": {
      "text/plain": [
       "1.0000378407159418"
      ]
     },
     "execution_count": 183,
     "metadata": {},
     "output_type": "execute_result"
    }
   ],
   "source": [
    "# \"Inverse\" the coefs to interpret them\n",
    "import numpy as np\n",
    "np.exp(3.784e-05)"
   ]
  },
  {
   "cell_type": "markdown",
   "metadata": {},
   "source": [
    "### Übung 3"
   ]
  },
  {
   "cell_type": "code",
   "execution_count": 184,
   "metadata": {},
   "outputs": [
    {
     "name": "stdout",
     "output_type": "stream",
     "text": [
      "Optimization terminated successfully.\n",
      "         Current function value: 0.519273\n",
      "         Iterations 5\n",
      "                           Logit Regression Results                           \n",
      "==============================================================================\n",
      "Dep. Variable:            loan_status   No. Observations:                32581\n",
      "Model:                          Logit   Df Residuals:                    32579\n",
      "Method:                           MLE   Df Model:                            1\n",
      "Date:                Fri, 16 Feb 2024   Pseudo R-squ.:                 0.01011\n",
      "Time:                        20:26:12   Log-Likelihood:                -16918.\n",
      "converged:                       True   LL-Null:                       -17091.\n",
      "Covariance Type:            nonrobust   LLR p-value:                 4.192e-77\n",
      "==============================================================================\n",
      "                 coef    std err          z      P>|z|      [0.025      0.975]\n",
      "------------------------------------------------------------------------------\n",
      "const         -1.6551      0.025    -66.513      0.000      -1.704      -1.606\n",
      "loan_amnt   3.784e-05   2.01e-06     18.835      0.000    3.39e-05    4.18e-05\n",
      "==============================================================================\n"
     ]
    }
   ],
   "source": [
    "# credit_risk_df should be already loaded and available\n",
    "\n",
    "# Step 1: Prepare the target variable\n",
    "Y = credit_risk_df['loan_status'] # Should be dummy and INT\n",
    "X = sm.add_constant(credit_risk_df['loan_amnt'])\n",
    "\n",
    "# Step 2: Conduct the logistic regression\n",
    "logit_model = sm.Logit(Y, X)\n",
    "result = logit_model.fit()\n",
    "\n",
    "# Print the summary to interpret the results\n",
    "print(result.summary())"
   ]
  },
  {
   "cell_type": "markdown",
   "metadata": {},
   "source": [
    "**Interpretation des Koeffizienten**  \n",
    "Positive Koeffizient für loan_amnt deutet auf einen positiven Zusammenhang zwischen dem Kreditbetrag und der Wahrscheinlichkeit, dass loan_status 1 ist, hin. Für jeden Dollar, um den sich der Kreditbetrag erhöht, steigt die logarithmische Wahrscheinlichkeit, dass der Kreditstatus 1 ist (=Ausfall), wenn andere Faktoren konstant bleiben.  \n",
    "\n",
    "- Statistische Signifikanz:  Zusammenhang zwischen Kredit und Status ist statistisch signifikant (p-Wert < 0.0001), was bedeutet, dass der beobachtete Effekt *wahrscheinlich* nicht auf Zufall beruht.\n",
    "\n",
    "- Stärke des Effekts: Obwohl statistisch signifikant, ist die Effektgröße pro $ (also Einheit) gering. Wenn man jedoch bedenkt, dass es bei Krediten oft um hohe Beträge geht, \n",
    "kann der Gesamteffekt auf den loan_status über die typische Bandbreite von Kreditbeträgen wesentlich grösser sein.\n",
    "\n",
    "- \"Erklärungskraft\" des Modells: Der Pseudo-R-Squared (0.01011) deutet darauf hin, dass loan_amnt allein nur etwa 1.011 % der Varianz im loan_status erklärt, was darauf hindeutet, dass auch andere Faktoren bei der Bestimmung des Darlehensstatus eine Rolle spielen -> Potenziell kein gutes Modell."
   ]
  },
  {
   "cell_type": "code",
   "execution_count": 150,
   "metadata": {},
   "outputs": [
    {
     "name": "stdout",
     "output_type": "stream",
     "text": [
      "Optimization terminated successfully.\n",
      "         Current function value: 0.519273\n",
      "         Iterations 5\n"
     ]
    },
    {
     "data": {
      "image/png": "[encoded data removed]",
      "text/plain": [
       "<Figure size 1000x600 with 1 Axes>"
      ]
     },
     "metadata": {},
     "output_type": "display_data"
    }
   ],
   "source": [
    "import matplotlib.pyplot as plt\n",
    "X_loan_amnt = sm.add_constant(credit_risk_df['loan_amnt'])\n",
    "logit_model_loan_amnt = sm.Logit(y, X_loan_amnt)\n",
    "result_loan_amnt = logit_model_loan_amnt.fit()\n",
    "\n",
    "loan_amnt_range = np.linspace(X_loan_amnt['loan_amnt'].min(), X_loan_amnt['loan_amnt'].max(), 100)\n",
    "X_loan_amnt_pred = sm.add_constant(loan_amnt_range)\n",
    "\n",
    "probabilities_loan_amnt = result_loan_amnt.predict(X_loan_amnt_pred)\n",
    "plt.figure(figsize=(10, 6))\n",
    "plt.scatter(credit_risk_df['loan_amnt'], y, alpha=0.2, label='Actual loan status')\n",
    "plt.plot(loan_amnt_range, probabilities_loan_amnt, color='green', label='Logistic Regression Curve')\n",
    "plt.xlabel('Loan Amount')\n",
    "plt.ylabel('Probability of Default')\n",
    "plt.title('Logistic Regression of Loan Status on Loan Amount')\n",
    "plt.legend()\n",
    "plt.show()"
   ]
  },
  {
   "cell_type": "code",
   "execution_count": 151,
   "metadata": {},
   "outputs": [
    {
     "data": {
      "image/png": "[encoded data removed]",
      "text/plain": [
       "<Figure size 1000x600 with 1 Axes>"
      ]
     },
     "metadata": {},
     "output_type": "display_data"
    }
   ],
   "source": [
    "import numpy as np\n",
    "import matplotlib.pyplot as plt\n",
    "from scipy.special import expit\n",
    "\n",
    "beta_0 = -1.6551  # Intercept\n",
    "beta_1 = 3.784e-05  # Coefficient for loan amount\n",
    "\n",
    "# Create synthetic data to plot complete function\n",
    "loan_amounts_synt = np.linspace(-100000, 350000, 1000)\n",
    "\n",
    "# Recalculate predicted probabilities for the corrected range of loan amounts\n",
    "log_odds = beta_0 + beta_1 * loan_amounts_synt\n",
    "probabilities_syth= expit(log_odds)\n",
    "\n",
    "# Create the corrected plot\n",
    "plt.figure(figsize=(10, 6))\n",
    "plt.plot(loan_amounts_synt, probabilities_syth, label='Logistic Regression Curve', color='green')\n",
    "\n",
    "# Label the plot\n",
    "plt.title('Logistic Regression of Loan Status on Loan Amount')\n",
    "plt.xlabel('Loan Amount')\n",
    "plt.ylabel('Probability of Default')\n",
    "plt.legend()\n",
    "plt.grid(True)\n",
    "plt.show()"
   ]
  },
  {
   "cell_type": "markdown",
   "metadata": {},
   "source": [
    "Ein Wert von 0.18 auf der Y-Achse bedeutet, dass eine Wahrscheinlichkeit von 18 % besteht, dass das Ergebnis (z. B. der Ausfall eines Kredits) eintritt, wenn der Kreditbetrag 0 ist.\n",
    "\n",
    "Dies könnte darauf hindeuten, dass es auch ohne Berücksichtigung des Kreditbetrags eine inhärente Basiswahrscheinlichkeit für einen Ausfall gibt, die durch andere, nicht im Modell enthaltene Faktoren wie die Kreditwürdigkeit des Kreditnehmers, externe wirtschaftliche Faktoren oder das Vorhandensein anderer Schulden beeinflusst werden könnte."
   ]
  },
  {
   "cell_type": "markdown",
   "metadata": {},
   "source": [
    "### Übung 4\n"
   ]
  },
  {
   "cell_type": "code",
   "execution_count": 185,
   "metadata": {},
   "outputs": [
    {
     "name": "stdout",
     "output_type": "stream",
     "text": [
      "Optimization terminated successfully.\n",
      "         Current function value: 0.517337\n",
      "         Iterations 5\n",
      "                           Logit Regression Results                           \n",
      "==============================================================================\n",
      "Dep. Variable:            loan_status   No. Observations:                31686\n",
      "Model:                          Logit   Df Residuals:                    31684\n",
      "Method:                           MLE   Df Model:                            1\n",
      "Date:                Fri, 16 Feb 2024   Pseudo R-squ.:                0.007141\n",
      "Time:                        20:26:29   Log-Likelihood:                -16392.\n",
      "converged:                       True   LL-Null:                       -16510.\n",
      "Covariance Type:            nonrobust   LLR p-value:                 3.235e-53\n",
      "=====================================================================================\n",
      "                        coef    std err          z      P>|z|      [0.025      0.975]\n",
      "-------------------------------------------------------------------------------------\n",
      "const                -1.0430      0.021    -49.669      0.000      -1.084      -1.002\n",
      "person_emp_length    -0.0551      0.004    -14.835      0.000      -0.062      -0.048\n",
      "=====================================================================================\n"
     ]
    }
   ],
   "source": [
    "import pandas as pd\n",
    "import statsmodels.api as sm\n",
    "\n",
    "# Angenommen, credit_risk_df ist bereits geladen und verfügbar\n",
    "\n",
    "# Drop rows with missing values in 'person_emp_length'\n",
    "cleaned_df = credit_risk_df.dropna(subset=['person_emp_length'])\n",
    "\n",
    "# Prepare the target variable and independent variable with no missing values\n",
    "Y_cleaned = cleaned_df['loan_status']\n",
    "X_cleaned = sm.add_constant(cleaned_df['person_emp_length'])  # Add constant to the independent variable\n",
    "\n",
    "# Conduct the logistic regression\n",
    "logit_model_cleaned = sm.Logit(Y_cleaned, X_cleaned)\n",
    "result_cleaned = logit_model_cleaned.fit()\n",
    "\n",
    "# Print the summary to interpret the results\n",
    "print(result_cleaned.summary())"
   ]
  },
  {
   "cell_type": "markdown",
   "metadata": {},
   "source": [
    "Koeffizient für Beschäftigungsdauer: Der negative Koeffizient (−0,0551) zeigt, dass mit jedem zusätzlichen Jahr der Beschäftigungsdauer die Wahrscheinlichkeit eines Kreditausfalls sinkt. Längere Beschäftigung führt also zu geringerem Ausfallrisiko.\n",
    "\n",
    "Statistische Signifikanz: Kleiner p-Wert indiziert, dass der Zusammenhang zwischen Beschäftigungsdauer und Kreditausfall statistisch signifikant ist.\n",
    "\n",
    "Interpretation des Koeffizienten: Für jedes zusätzliche Beschäftigungsjahr verringern sich die Log-Odds für einen Kreditausfall um 0.0551, wenn alle anderen Faktoren gleich bleiben. Dies deutet darauf hin, dass Personen mit längerer Beschäftigungszeit weniger wahrscheinlich einen Kreditausfall haben.\n",
    "\n",
    "Modellanpassung / Erklärungskraft: Pseudo-R-Quadrat-Wert von 0.007141 bedeutet, dass das Modell nur etwa 0.714% der Varianz im Kreditausfall erklärt. Obwohl der \"Beschäftigungsdauer-Effekt\" signifikant ist, gibt es andere Faktoren, die auch wichtig sind und nicht berücksichtigt wurden.\n",
    "\n",
    "Ergo zeigt die Analyse zeigt einen signifikanten negativen Zusammenhang zwischen der Beschäftigungsdauer eines Kreditnehmers und der Wahrscheinlichkeit eines Kreditausfalls. Die Beschäftigungsdauer allein bietet jedoch nur eine geringe Erklärung für das Risiko eines Kreditausfalls."
   ]
  },
  {
   "cell_type": "markdown",
   "metadata": {},
   "source": [
    "# Übung 5"
   ]
  },
  {
   "cell_type": "code",
   "execution_count": 186,
   "metadata": {},
   "outputs": [
    {
     "name": "stdout",
     "output_type": "stream",
     "text": [
      "Optimization terminated successfully.\n",
      "         Current function value: 0.493897\n",
      "         Iterations 6\n",
      "                           Logit Regression Results                           \n",
      "==============================================================================\n",
      "Dep. Variable:            loan_status   No. Observations:                32581\n",
      "Model:                          Logit   Df Residuals:                    32577\n",
      "Method:                           MLE   Df Model:                            3\n",
      "Date:                Fri, 16 Feb 2024   Pseudo R-squ.:                 0.05848\n",
      "Time:                        20:26:33   Log-Likelihood:                -16092.\n",
      "converged:                       True   LL-Null:                       -17091.\n",
      "Covariance Type:            nonrobust   LLR p-value:                     0.000\n",
      "==============================================================================\n",
      "                 coef    std err          z      P>|z|      [0.025      0.975]\n",
      "------------------------------------------------------------------------------\n",
      "const         -1.9395      0.026    -74.551      0.000      -1.990      -1.888\n",
      "OTHER          1.1319      0.211      5.366      0.000       0.718       1.545\n",
      "OWN           -0.5773      0.079     -7.287      0.000      -0.733      -0.422\n",
      "RENT           1.1659      0.031     37.662      0.000       1.105       1.227\n",
      "==============================================================================\n",
      "Confusion Matrix:\n",
      " [[25473     0]\n",
      " [ 7108     0]]\n",
      "Accuracy: 0.7818360394094718\n"
     ]
    }
   ],
   "source": [
    "# Load the dataset\n",
    "credit_risk_df = pd.read_csv('../../Data/credit_risk/credit_risk_dataset.csv')\n",
    "\n",
    "# Step 1: Convert 'person_home_ownership' into numeric dummy variables\n",
    "# Using 'astype(int)' to convert boolean values to integers (0/1)\n",
    "person_home_ownership_dummies_real = pd.get_dummies(credit_risk_df['person_home_ownership'], drop_first=True)\n",
    "person_home_ownership_dummies = pd.get_dummies(credit_risk_df['person_home_ownership'], drop_first=True).astype(int)\n",
    "\n",
    "# Step 2: Prepare the target variable\n",
    "# Ensure it's numeric (integer) and handle missing values if there are any\n",
    "Y = credit_risk_df['loan_status'].astype(int)\n",
    "\n",
    "# It's a good practice to check for and handle missing values in your dataset\n",
    "# This could be done either by dropping missing values or imputing them\n",
    "# For simplicity, here we will proceed assuming no significant missing values in 'loan_status'\n",
    "# Add a line like 'credit_risk_df.dropna(subset=['loan_status'], inplace=True)' if needed\n",
    "\n",
    "# Step 3: Add the dummy variables to the model, including a constant term for the intercept\n",
    "X = sm.add_constant(person_home_ownership_dummies)\n",
    "\n",
    "# Step 4: Conduct the logistic regression\n",
    "logit_model = sm.Logit(Y, X)\n",
    "result = logit_model.fit()\n",
    "\n",
    "# Print the summary to interpret the results\n",
    "print(result.summary())\n",
    "\n",
    "# Making predictions using the fitted model\n",
    "# Here we get the probability of loan_status being 1 and convert it to binary outcomes based on a threshold\n",
    "y_pred_prob = result.predict(X)\n",
    "y_pred = y_pred_prob > 0.5\n",
    "\n",
    "# Calculate the confusion matrix and accuracy\n",
    "conf_matrix = confusion_matrix(Y, y_pred)\n",
    "accuracy = accuracy_score(Y, y_pred)\n",
    "\n",
    "print(\"Confusion Matrix:\\n\", conf_matrix)\n",
    "print(\"Accuracy:\", accuracy)"
   ]
  },
  {
   "cell_type": "markdown",
   "metadata": {},
   "source": [
    "Konfusionsmatrix-Interpretation:  \n",
    "- True Negative (TN): 25'473 Fälle wurden korrekt als Nicht-Ausfälle vorhergesagt. Das Modell hat diese Anzahl an Krediten richtig identifiziert, die nicht ausgefallen sind.\n",
    "- False Positive (FP): 0 Fälle wurden fälschlicherweise als Ausfälle vorhergesagt, obwohl sie tatsächlich Nicht-Ausfälle waren. Das Modell hat keinen Nicht-Ausfall irrtümlich als Ausfall markiert.\n",
    "- False Negative (FN): 7'108 Fälle wurden fälschlicherweise als Nicht-Ausfälle vorhergesagt, obwohl sie tatsächliche Ausfälle waren. Das Modell hat viele tatsächliche Kreditausfälle nicht erkannt.\n",
    "- True Positive (TP): 0 Fälle wurden korrekt als Ausfälle vorhergesagt. Das Modell hat keinen tatsächlichen Ausfall korrekt identifiziert.\n",
    "\n",
    "Genauigkeitsinterpretation:\n",
    "- Genauigkeit (Accuracy): Etwa 78,18%. Diese Metrik zeigt den Anteil der insgesamt richtig vorhergesagten Vorhersagen (sowohl Ausfälle als auch Nicht-Ausfälle). Die hohe Genauigkeit täuscht jedoch über ein kritisches Problem hinweg.\n",
    "\n",
    "Schlüsselbeobachtungen:\n",
    "Modell zeigt eine starke Tendenz zur Vorhersage von Nicht-Ausfällen und versagt darin, tatsächliche Ausfälle zu identifizieren. Dies könnte auf ein unausgeglichenes Datenset oder ein Modell zurückzuführen sein, das die Komplexität von Ausfällen nicht erfasst.\n",
    "Die hohe Genauigkeit ist in diesem Kontext irreführend, da sie die Unfähigkeit des Modells, tatsächliche Ausfälle korrekt zu identifizieren, nicht berücksichtigt. Dies wird als Genauigkeitsparadox bezeichnet.\n",
    "\n",
    "**Fazit:**  \n",
    "Obwohl das Modell eine hohe Genauigkeit aufweist, ist es in der Praxis unbrauchbar, um das Risiko von Kreditausfällen vorherzusagen. Die vollständige Abwesenheit von richtigen positiven Vorhersagen deutet darauf hin, dass die Vorhersagefähigkeiten des Modells verzerrt sind. Genauigkeit allein ist kein ausreichendes Maß für die Leistung des Modells, besonders wenn die Vorhersage einer der Klassen (in diesem Fall Kreditausfälle) entscheidend ist. Weitere Evaluierungsmetriken wie Präzision, Recall (Sensitivität), F1-Score und die ROC-Kurve sollten berücksichtigt werden, um ein umfassenderes Verständnis der Modellleistung zu erhalten und dessen aktuelle Einschränkungen zu adressieren."
   ]
  },
  {
   "cell_type": "code",
   "execution_count": 187,
   "metadata": {},
   "outputs": [
    {
     "data": {
      "image/png": "[encoded data removed]",
      "text/plain": [
       "<Figure size 600x400 with 1 Axes>"
      ]
     },
     "metadata": {},
     "output_type": "display_data"
    },
    {
     "data": {
      "text/plain": [
       "(78.18360394094718, 21.816396059052824)"
      ]
     },
     "execution_count": 187,
     "metadata": {},
     "output_type": "execute_result"
    }
   ],
   "source": [
    "# Count the occurrences of each category in loan_status\n",
    "loan_status_counts = credit_risk_df['loan_status'].value_counts()\n",
    "\n",
    "# Calculating the ratio between the two categories\n",
    "ratio_0_to_1 = loan_status_counts[0] / loan_status_counts[1]\n",
    "\n",
    "# Plotting the distribution of loan_status\n",
    "categories = [0,1]\n",
    "counts = list(loan_status_counts.values)\n",
    "\n",
    "plt.figure(figsize=(6, 4))\n",
    "plt.bar(categories, counts, color=['blue', 'orange'])\n",
    "plt.xticks(categories, ['0 (Non-default)', '1 (Default)'])\n",
    "plt.ylabel('Count')\n",
    "plt.title('Distribution of Loan Status')\n",
    "plt.show()\n",
    "\n",
    "# Calculating the ratio in percent\n",
    "total_counts = sum(loan_status_counts.values)\n",
    "percent_0 = (loan_status_counts[0] / total_counts) * 100\n",
    "percent_1 = (loan_status_counts[1] / total_counts) * 100\n",
    "\n",
    "percent_0, percent_1"
   ]
  },
  {
   "cell_type": "markdown",
   "metadata": {},
   "source": [
    "Wir können auch probieren alle möglichen Kombinationen zu probieren..."
   ]
  },
  {
   "cell_type": "code",
   "execution_count": 188,
   "metadata": {},
   "outputs": [],
   "source": [
    "import pandas as pd\n",
    "from sklearn.model_selection import train_test_split\n",
    "from sklearn.linear_model import LogisticRegression\n",
    "from sklearn.metrics import roc_auc_score\n",
    "from sklearn.preprocessing import StandardScaler\n",
    "from itertools import combinations\n",
    "import numpy as np\n",
    "\n",
    "# Load the dataset\n",
    "credit_risk_df = pd.read_csv('../../Data/credit_risk/credit_risk_dataset.csv')\n",
    "\n",
    "# List of all variables except the target\n",
    "all_variables = list(credit_risk_df.drop('loan_status', axis=1).columns)\n",
    "\n",
    "# Handle missing values. For simplicity, let's drop rows with any missing values. Usual steps:\n",
    "# - Impute missing values (Mean imputing can be used but is often \"too simple\")\n",
    "# - Remove or adjust outliers, check why the outliers occur. Maybe cluster the dataset to identify outliers\n",
    "# - Encode categorical variables\n",
    "# - Normalize numerical variables\n",
    "# ...\n",
    "credit_risk_df = credit_risk_df.dropna().reset_index(drop=True)\n",
    "\n",
    "# Total number of variables for each combination to test\n",
    "total_variables_list = [1,2,3,4,5,6,7,8,9,10]  #Different combinations with X variables\n",
    "\n",
    "best_score = -np.inf\n",
    "best_combination = None\n",
    "best_model = None\n",
    "\n",
    "for total_vars in total_variables_list:\n",
    "    for combo in combinations(all_variables, total_vars):\n",
    "        \n",
    "        # Identify categorical and numerical variables in the current combination\n",
    "        categorical_vars = [var for var in combo if credit_risk_df[var].dtype == 'object' or credit_risk_df[var].nunique() < 10]\n",
    "        numerical_vars = [var for var in combo if var not in categorical_vars]\n",
    "        \n",
    "        # Preprocess the combination of variables\n",
    "        if categorical_vars:\n",
    "            X_categorical = pd.get_dummies(credit_risk_df[categorical_vars], drop_first=True)\n",
    "        else:\n",
    "            X_categorical = pd.DataFrame()\n",
    "            \n",
    "        if numerical_vars:\n",
    "            X_numerical = credit_risk_df[numerical_vars]\n",
    "            scaler = StandardScaler()\n",
    "            X_numerical = pd.DataFrame(scaler.fit_transform(X_numerical), columns=numerical_vars, index=X_numerical.index)\n",
    "        else:\n",
    "            X_numerical = pd.DataFrame()\n",
    "        \n",
    "        X = pd.concat([X_numerical, X_categorical], axis=1)\n",
    "        y = credit_risk_df.loc[X.index, 'loan_status']  # Ensure y is aligned with X using the same index\n",
    "        \n",
    "        # Split the data\n",
    "        X_train, X_test, y_train, y_test = train_test_split(X, y, test_size=0.2, random_state=42)\n",
    "        \n",
    "        # Train the logistic regression model\n",
    "        logistic_model = LogisticRegression(max_iter=1000, random_state=42)\n",
    "        logistic_model.fit(X_train, y_train)\n",
    "        \n",
    "        # Evaluate the model\n",
    "        roc_auc = roc_auc_score(y_test, logistic_model.predict_proba(X_test)[:, 1])\n",
    "\n",
    "        # Update the best model if the current model performs better\n",
    "        if roc_auc > best_score:\n",
    "            best_score = roc_auc\n",
    "            best_combination = combo\n",
    "            best_model = logistic_model"
   ]
  },
  {
   "cell_type": "code",
   "execution_count": 189,
   "metadata": {},
   "outputs": [
    {
     "name": "stdout",
     "output_type": "stream",
     "text": [
      "Best Combination of Variables: ('person_age', 'person_income', 'person_home_ownership', 'loan_intent', 'loan_amnt', 'loan_int_rate', 'loan_percent_income', 'cb_person_default_on_file')\n",
      "Best ROC-AUC Score: 0.8568198477734835\n",
      "\n",
      "Best Model Coefficients:\n",
      "                        Feature  Coefficient\n",
      "0                    person_age    -0.020387\n",
      "1                 person_income     0.034755\n",
      "2                     loan_amnt    -0.553796\n",
      "3                 loan_int_rate     1.033058\n",
      "4           loan_percent_income     1.303580\n",
      "5   person_home_ownership_OTHER     0.428508\n",
      "6     person_home_ownership_OWN    -1.592370\n",
      "7    person_home_ownership_RENT     0.748504\n",
      "8         loan_intent_EDUCATION    -0.819060\n",
      "9   loan_intent_HOMEIMPROVEMENT     0.074576\n",
      "10          loan_intent_MEDICAL    -0.181402\n",
      "11         loan_intent_PERSONAL    -0.602133\n",
      "12          loan_intent_VENTURE    -1.049226\n",
      "13  cb_person_default_on_file_Y     0.089163\n",
      "\n",
      "Confusion Matrix:\n",
      "[[4241  202]\n",
      " [ 693  592]]\n",
      "\n",
      "Classification Report:\n",
      "              precision    recall  f1-score   support\n",
      "\n",
      "           0       0.86      0.95      0.90      4443\n",
      "           1       0.75      0.46      0.57      1285\n",
      "\n",
      "    accuracy                           0.84      5728\n",
      "   macro avg       0.80      0.71      0.74      5728\n",
      "weighted avg       0.83      0.84      0.83      5728\n",
      "\n"
     ]
    }
   ],
   "source": [
    "from sklearn.metrics import classification_report, confusion_matrix\n",
    "\n",
    "print(f\"Best Combination of Variables: {best_combination}\")\n",
    "print(f\"Best ROC-AUC Score: {best_score}\")\n",
    "\n",
    "# Re-fit the best model on the entire dataset with the best combination\n",
    "categorical_vars_best = [var for var in best_combination if credit_risk_df[var].dtype == 'object' or credit_risk_df[var].nunique() < 10]\n",
    "numerical_vars_best = [var for var in best_combination if var not in categorical_vars_best]\n",
    "\n",
    "# Preprocess the combination of variables for the best combination\n",
    "if categorical_vars_best:\n",
    "    X_categorical_best = pd.get_dummies(credit_risk_df[categorical_vars_best], drop_first=True)\n",
    "else:\n",
    "    X_categorical_best = pd.DataFrame()\n",
    "    \n",
    "if numerical_vars_best:\n",
    "    X_numerical_best = credit_risk_df[numerical_vars_best]\n",
    "    scaler = StandardScaler()\n",
    "    X_numerical_best = pd.DataFrame(scaler.fit_transform(X_numerical_best), columns=numerical_vars_best, index=X_numerical_best.index)\n",
    "else:\n",
    "    X_numerical_best = pd.DataFrame()\n",
    "\n",
    "X_best = pd.concat([X_numerical_best, X_categorical_best], axis=1)\n",
    "y_best = credit_risk_df.loc[X_best.index, 'loan_status']  # Ensure y is aligned with X using the same index\n",
    "\n",
    "# Split the data for the best model\n",
    "X_train_best, X_test_best, y_train_best, y_test_best = train_test_split(X_best, y_best, test_size=0.2, random_state=42)\n",
    "\n",
    "# Re-fit the best model\n",
    "best_model.fit(X_train_best, y_train_best)\n",
    "\n",
    "# Predictions and model evaluation\n",
    "y_pred_best = best_model.predict(X_test_best)\n",
    "conf_matrix = confusion_matrix(y_test_best, y_pred_best)\n",
    "class_report = classification_report(y_test_best, y_pred_best)\n",
    "\n",
    "# Summary of the best model\n",
    "coefficients = best_model.coef_[0]\n",
    "features = X_train_best.columns\n",
    "coef_summary = pd.DataFrame({'Feature': features, 'Coefficient': coefficients})\n",
    "\n",
    "# Display the summary\n",
    "print(f\"\\nBest Model Coefficients:\\n{coef_summary}\")\n",
    "print(\"\\nConfusion Matrix:\")\n",
    "print(conf_matrix)\n",
    "print(\"\\nClassification Report:\")\n",
    "print(class_report)"
   ]
  },
  {
   "cell_type": "code",
   "execution_count": 190,
   "metadata": {},
   "outputs": [
    {
     "name": "stdout",
     "output_type": "stream",
     "text": [
      "\n",
      "Model Evaluation on the complete Dataset\n",
      "\n",
      "Confusion Matrix:\n",
      "[[21338  1097]\n",
      " [ 3236  2967]]\n",
      "\n",
      "Classification Report:\n",
      "              precision    recall  f1-score   support\n",
      "\n",
      "           0       0.87      0.95      0.91     22435\n",
      "           1       0.73      0.48      0.58      6203\n",
      "\n",
      "    accuracy                           0.85     28638\n",
      "   macro avg       0.80      0.71      0.74     28638\n",
      "weighted avg       0.84      0.85      0.84     28638\n",
      "\n"
     ]
    }
   ],
   "source": [
    "# Re-fit the best model on the entire dataset with the best combination of variables\n",
    "best_model.fit(X_best, y_best)\n",
    "\n",
    "# Predict on the entire dataset\n",
    "y_pred_entire = best_model.predict(X_best)\n",
    "conf_matrix_entire = confusion_matrix(y_best, y_pred_entire)\n",
    "class_report_entire = classification_report(y_best, y_pred_entire)\n",
    "\n",
    "# Display the summary for the entire dataset\n",
    "print(f\"\\nModel Evaluation on the complete Dataset\")\n",
    "print(\"\\nConfusion Matrix:\")\n",
    "print(conf_matrix_entire)\n",
    "print(\"\\nClassification Report:\")\n",
    "print(class_report_entire)"
   ]
  },
  {
   "cell_type": "code",
   "execution_count": 191,
   "metadata": {},
   "outputs": [
    {
     "name": "stdout",
     "output_type": "stream",
     "text": [
      "Optimization terminated successfully.\n",
      "         Current function value: 0.358830\n",
      "         Iterations 7\n"
     ]
    }
   ],
   "source": [
    "# Reset index to ensure alignment\n",
    "credit_risk_df.reset_index(drop=True, inplace=True)\n",
    "\n",
    "# For categorical/numerical variables in best_combination\n",
    "categorical_vars = [var for var in best_combination if credit_risk_df[var].dtype == 'object']\n",
    "numerical_vars = [var for var in best_combination if var not in categorical_vars]\n",
    "\n",
    "X_categorical_best = pd.get_dummies(credit_risk_df[categorical_vars], drop_first=True) if categorical_vars else pd.DataFrame()\n",
    "X_numerical_best = credit_risk_df[numerical_vars] if numerical_vars else pd.DataFrame()\n",
    "\n",
    "X_best = pd.concat([X_numerical_best, X_categorical_best], axis=1)\n",
    "y_best = credit_risk_df['loan_status']\n",
    "\n",
    "# Ensure y_best is aligned and has the same index as X_best\n",
    "y_best = y_best.loc[X_best.index]\n",
    "\n",
    "# Add constant for intercept\n",
    "X_sm = sm.add_constant(X_best)\n",
    "\n",
    "# Fit the model using statsmodels\n",
    "logit_model = sm.Logit(y_best.astype(float), X_sm.astype(float))\n",
    "result = logit_model.fit()"
   ]
  },
  {
   "cell_type": "code",
   "execution_count": 192,
   "metadata": {},
   "outputs": [
    {
     "name": "stdout",
     "output_type": "stream",
     "text": [
      "                           Logit Regression Results                           \n",
      "==============================================================================\n",
      "Dep. Variable:            loan_status   No. Observations:                28638\n",
      "Model:                          Logit   Df Residuals:                    28623\n",
      "Method:                           MLE   Df Model:                           14\n",
      "Date:                Fri, 16 Feb 2024   Pseudo R-squ.:                  0.3133\n",
      "Time:                        20:28:11   Log-Likelihood:                -10276.\n",
      "converged:                       True   LL-Null:                       -14965.\n",
      "Covariance Type:            nonrobust   LLR p-value:                     0.000\n",
      "===============================================================================================\n",
      "                                  coef    std err          z      P>|z|      [0.025      0.975]\n",
      "-----------------------------------------------------------------------------------------------\n",
      "const                          -6.4065      0.130    -49.419      0.000      -6.661      -6.152\n",
      "person_age                     -0.0057      0.003     -1.944      0.052      -0.011     4.7e-05\n",
      "person_income                7.025e-07   3.08e-07      2.283      0.022    9.95e-08    1.31e-06\n",
      "loan_amnt                   -8.934e-05   4.02e-06    -22.228      0.000   -9.72e-05   -8.15e-05\n",
      "loan_int_rate                   0.3191      0.007     45.472      0.000       0.305       0.333\n",
      "loan_percent_income            12.4354      0.241     51.536      0.000      11.963      12.908\n",
      "person_home_ownership_OTHER     0.4215      0.283      1.490      0.136      -0.133       0.976\n",
      "person_home_ownership_OWN      -1.6228      0.106    -15.265      0.000      -1.831      -1.414\n",
      "person_home_ownership_RENT      0.7414      0.040     18.475      0.000       0.663       0.820\n",
      "loan_intent_EDUCATION          -0.8162      0.059    -13.919      0.000      -0.931      -0.701\n",
      "loan_intent_HOMEIMPROVEMENT     0.0795      0.065      1.230      0.219      -0.047       0.206\n",
      "loan_intent_MEDICAL            -0.1569      0.056     -2.817      0.005      -0.266      -0.048\n",
      "loan_intent_PERSONAL           -0.5837      0.060     -9.763      0.000      -0.701      -0.467\n",
      "loan_intent_VENTURE            -1.0397      0.063    -16.384      0.000      -1.164      -0.915\n",
      "cb_person_default_on_file_Y     0.0867      0.045      1.935      0.053      -0.001       0.175\n",
      "===============================================================================================\n"
     ]
    }
   ],
   "source": [
    "# Print the summary\n",
    "print(result.summary())"
   ]
  },
  {
   "cell_type": "code",
   "execution_count": 193,
   "metadata": {},
   "outputs": [
    {
     "data": {
      "image/png": "[encoded data removed]",
      "text/plain": [
       "<Figure size 1000x600 with 1 Axes>"
      ]
     },
     "metadata": {},
     "output_type": "display_data"
    }
   ],
   "source": [
    "from sklearn.metrics import roc_curve, auc\n",
    "\n",
    "# Calculate ROC curve and ROC area\n",
    "fpr, tpr, _ = roc_curve(y_best, pred_probs)\n",
    "roc_auc = auc(fpr, tpr)\n",
    "\n",
    "# Plot ROC curve\n",
    "plt.figure(figsize=(10, 6))\n",
    "plt.plot(fpr, tpr, color='darkorange', lw=2, label='ROC curve (area = %0.2f)' % roc_auc)\n",
    "plt.plot([0, 1], [0, 1], color='navy', lw=2, linestyle='--')\n",
    "plt.xlim([0.0, 1.0])\n",
    "plt.ylim([0.0, 1.05])\n",
    "plt.xlabel('False Positive Rate')\n",
    "plt.ylabel('True Positive Rate')\n",
    "plt.title('Receiver Operating Characteristic (ROC)')\n",
    "plt.legend(loc=\"lower right\")\n",
    "plt.grid(True)\n",
    "plt.show()"
   ]
  },
  {
   "cell_type": "code",
   "execution_count": null,
   "metadata": {},
   "outputs": [],
   "source": []
  }
 ],
 "metadata": {
  "kernelspec": {
   "display_name": "venv-hwz-cas-ml",
   "language": "python",
   "name": "python3"
  },
  "language_info": {
   "codemirror_mode": {
    "name": "ipython",
    "version": 3
   },
   "file_extension": ".py",
   "mimetype": "text/x-python",
   "name": "python",
   "nbconvert_exporter": "python",
   "pygments_lexer": "ipython3",
   "version": "3.11.2"
  }
 },
 "nbformat": 4,
 "nbformat_minor": 2
}
