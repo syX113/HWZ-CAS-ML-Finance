{
 "cells": [
  {
   "cell_type": "markdown",
   "metadata": {},
   "source": [
    "# Aufgabe 2"
   ]
  },
  {
   "cell_type": "code",
   "execution_count": 4,
   "metadata": {},
   "outputs": [
    {
     "data": {
      "text/html": [
       "<div>\n",
       "<style scoped>\n",
       "    .dataframe tbody tr th:only-of-type {\n",
       "        vertical-align: middle;\n",
       "    }\n",
       "\n",
       "    .dataframe tbody tr th {\n",
       "        vertical-align: top;\n",
       "    }\n",
       "\n",
       "    .dataframe thead th {\n",
       "        text-align: right;\n",
       "    }\n",
       "</style>\n",
       "<table border=\"1\" class=\"dataframe\">\n",
       "  <thead>\n",
       "    <tr style=\"text-align: right;\">\n",
       "      <th></th>\n",
       "      <th>person_age</th>\n",
       "      <th>person_income</th>\n",
       "      <th>person_home_ownership</th>\n",
       "      <th>person_emp_length</th>\n",
       "      <th>loan_intent</th>\n",
       "      <th>loan_amnt</th>\n",
       "      <th>loan_int_rate</th>\n",
       "      <th>loan_status</th>\n",
       "      <th>loan_percent_income</th>\n",
       "      <th>cb_person_default_on_file</th>\n",
       "      <th>cb_person_cred_hist_length</th>\n",
       "    </tr>\n",
       "  </thead>\n",
       "  <tbody>\n",
       "    <tr>\n",
       "      <th>0</th>\n",
       "      <td>22</td>\n",
       "      <td>59000</td>\n",
       "      <td>RENT</td>\n",
       "      <td>123.0</td>\n",
       "      <td>PERSONAL</td>\n",
       "      <td>35000</td>\n",
       "      <td>16.02</td>\n",
       "      <td>1</td>\n",
       "      <td>0.59</td>\n",
       "      <td>Y</td>\n",
       "      <td>3</td>\n",
       "    </tr>\n",
       "    <tr>\n",
       "      <th>1</th>\n",
       "      <td>21</td>\n",
       "      <td>9600</td>\n",
       "      <td>OWN</td>\n",
       "      <td>5.0</td>\n",
       "      <td>EDUCATION</td>\n",
       "      <td>1000</td>\n",
       "      <td>11.14</td>\n",
       "      <td>0</td>\n",
       "      <td>0.10</td>\n",
       "      <td>N</td>\n",
       "      <td>2</td>\n",
       "    </tr>\n",
       "    <tr>\n",
       "      <th>2</th>\n",
       "      <td>25</td>\n",
       "      <td>9600</td>\n",
       "      <td>MORTGAGE</td>\n",
       "      <td>1.0</td>\n",
       "      <td>MEDICAL</td>\n",
       "      <td>5500</td>\n",
       "      <td>12.87</td>\n",
       "      <td>1</td>\n",
       "      <td>0.57</td>\n",
       "      <td>N</td>\n",
       "      <td>3</td>\n",
       "    </tr>\n",
       "  </tbody>\n",
       "</table>\n",
       "</div>"
      ],
      "text/plain": [
       "   person_age  person_income person_home_ownership  person_emp_length  \\\n",
       "0          22          59000                  RENT              123.0   \n",
       "1          21           9600                   OWN                5.0   \n",
       "2          25           9600              MORTGAGE                1.0   \n",
       "\n",
       "  loan_intent  loan_amnt  loan_int_rate  loan_status  loan_percent_income  \\\n",
       "0    PERSONAL      35000          16.02            1                 0.59   \n",
       "1   EDUCATION       1000          11.14            0                 0.10   \n",
       "2     MEDICAL       5500          12.87            1                 0.57   \n",
       "\n",
       "  cb_person_default_on_file  cb_person_cred_hist_length  \n",
       "0                         Y                           3  \n",
       "1                         N                           2  \n",
       "2                         N                           3  "
      ]
     },
     "execution_count": 4,
     "metadata": {},
     "output_type": "execute_result"
    }
   ],
   "source": [
    "import pandas as pd\n",
    "\n",
    "# Load the datasets\n",
    "credit_risk_df = pd.read_csv('../../Data/credit_risk/credit_risk_dataset.csv')\n",
    "\n",
    "# Display the first few rows of each dataset to understand their structure\n",
    "credit_risk_df.head(3)"
   ]
  },
  {
   "cell_type": "markdown",
   "metadata": {},
   "source": [
    "### Übung 1: Einführung in logistische Regression\n",
    "\n",
    "Untersuchen Sie, ob das Einkommen (person_income) eines Kreditnehmers einen Einfluss auf den Kreditstatus (loan_status) hat. Führen Sie eine einfache logistische Regression durch und interpretieren Sie das Ergebnis des Koeffizienten für das Einkommen."
   ]
  },
  {
   "cell_type": "code",
   "execution_count": null,
   "metadata": {},
   "outputs": [],
   "source": [
    "import statsmodels.api as sm\n",
    "\n",
    "# Hint: Add a constant to the DataFrame\n",
    "X = sm.add_constant(credit_risk_df['person_income'])\n",
    "y = credit_risk_df['loan_status']\n",
    "\n",
    "# Create and fit the model\n",
    "model = sm.Logit(y, X).fit()\n",
    "print(model.summary())"
   ]
  },
  {
   "cell_type": "markdown",
   "metadata": {},
   "source": [
    "### Übung 2: Kategorische Variablen einbeziehen\n",
    "\n",
    "Untersuchen Sie den Einfluss der Wohnsituation (person_home_ownership) auf den Kreditstatus (loan_status). Wandeln Sie die kategorische Variable in Dummy-Variablen um und führen Sie eine logistische Regression durch."
   ]
  },
  {
   "cell_type": "code",
   "execution_count": null,
   "metadata": {},
   "outputs": [],
   "source": [
    "# Hint: Convert the categorical variable into dummy variables\n",
    "person_home_ownership_dummies = pd.get_dummies(credit_risk_df['person_home_ownership'], drop_first=True)\n",
    "\n",
    "# Hint: Add the dummy variables to the model\n",
    "X = sm.add_constant(person_home_ownership_dummies)"
   ]
  },
  {
   "cell_type": "markdown",
   "metadata": {},
   "source": [
    "### Übung 3: Beziehung zwischen Kreditbetrag und Kreditstatus\n",
    "\n",
    "Analysieren Sie, wie der Kreditbetrag (loan_amnt) mit dem Kreditstatus (loan_status) zusammenhängt. Implementieren Sie eine logistische Regression und interpretieren Sie den Koeffizienten des Kreditbetrags."
   ]
  },
  {
   "cell_type": "code",
   "execution_count": null,
   "metadata": {},
   "outputs": [],
   "source": [
    "X = sm.add_constant(credit_risk_df['loan_amnt'])\n",
    "\n",
    "# Use the same approach as in Exercise 1 to create and fit the model"
   ]
  },
  {
   "cell_type": "markdown",
   "metadata": {},
   "source": [
    "### Übung 4: Einfluss der Beschäftigungsdauer\n",
    "\n",
    "Prüfen Sie, ob die Beschäftigungsdauer (person_emp_length) eines Kreditnehmers einen Effekt auf die Wahrscheinlichkeit eines Kreditausfalls (loan_status) hat. Führen Sie eine logistische Regression durch und diskutieren Sie die Ergebnisse."
   ]
  },
  {
   "cell_type": "code",
   "execution_count": null,
   "metadata": {},
   "outputs": [],
   "source": [
    "X = sm.add_constant(credit_risk_df['person_emp_length'])\n",
    "\n",
    "# Create and fit the model, similar to previous exercises"
   ]
  },
  {
   "cell_type": "markdown",
   "metadata": {},
   "source": [
    "### Übung 5: Modellgüte evaluieren\n",
    "\n",
    "Wählen Sie eines der oben erstellten Modelle und evaluieren Sie dessen Güte. Berechnen Sie hierfür die Modellgüte anhand der Konfusionsmatrix und berechnen Sie die Genauigkeit (Accuracy) des Modells."
   ]
  },
  {
   "cell_type": "code",
   "execution_count": null,
   "metadata": {},
   "outputs": [],
   "source": [
    "from sklearn.metrics import confusion_matrix, accuracy_score\n",
    "\n",
    "# Hint: Make predictions based on your model\n",
    "# Assuming `model` is your fitted model from one of the previous exercises\n",
    "y_pred = model.predict(X) > 0.5  # Choose a threshold, e.g., 0.5\n",
    "\n",
    "# Calculate the confusion matrix and accuracy\n",
    "conf_matrix = confusion_matrix(y, y_pred)\n",
    "accuracy = accuracy_score(y, y_pred)\n",
    "\n",
    "print(\"Confusion Matrix:\\n\", conf_matrix)\n",
    "print(\"Accuracy:\", accuracy)"
   ]
  }
 ],
 "metadata": {
  "kernelspec": {
   "display_name": "venv-hwz-cas-ml",
   "language": "python",
   "name": "python3"
  },
  "language_info": {
   "codemirror_mode": {
    "name": "ipython",
    "version": 3
   },
   "file_extension": ".py",
   "mimetype": "text/x-python",
   "name": "python",
   "nbconvert_exporter": "python",
   "pygments_lexer": "ipython3",
   "version": "3.11.5"
  }
 },
 "nbformat": 4,
 "nbformat_minor": 2
}
